{
 "cells": [
  {
   "cell_type": "code",
   "execution_count": null,
   "id": "73cd950c-16df-48ee-a6e7-462da7fbf462",
   "metadata": {},
   "outputs": [],
   "source": [
    "import numpy as np\n",
    "import pandas as pd\n",
    "import matplotlib.pyplot as plt"
   ]
  },
  {
   "cell_type": "code",
   "execution_count": null,
   "id": "588c2fa4-e1dc-4718-b346-50a7b6fd4e9a",
   "metadata": {},
   "outputs": [],
   "source": [
    "wine1 = pd.read_csv(\"winemag-data_first150k.csv\")"
   ]
  },
  {
   "cell_type": "code",
   "execution_count": null,
   "id": "ada8989f-f9eb-41f4-a873-6573ef811570",
   "metadata": {},
   "outputs": [],
   "source": [
    "wine1.head(10)"
   ]
  },
  {
   "cell_type": "code",
   "execution_count": null,
   "id": "c3a9b9a9-2622-46b9-9a45-1acfe66c19ef",
   "metadata": {},
   "outputs": [],
   "source": [
    "# Reading the second wine dataset\n",
    "wine2 = pd.read_csv(\"winemag-data-130k-v2.csv\")"
   ]
  },
  {
   "cell_type": "code",
   "execution_count": null,
   "id": "be2b4c6a-fbb6-4a4f-9506-6db059c453e5",
   "metadata": {},
   "outputs": [],
   "source": [
    "wine2.head(10)"
   ]
  },
  {
   "cell_type": "code",
   "execution_count": null,
   "id": "b1bdd972-a87c-4364-b230-d27f213bdb96",
   "metadata": {},
   "outputs": [],
   "source": [
    "# Check missing values\n",
    "print(wine1.isna().sum().sort_values())"
   ]
  },
  {
   "cell_type": "code",
   "execution_count": null,
   "id": "68c1458e-e7e8-43cb-94c8-253c58607254",
   "metadata": {},
   "outputs": [],
   "source": [
    "# Drop all NAs in price and points in wine1 dataset\n",
    "wine1= wine1.dropna(subset=[\"country\",\"province\",\"price\"])\n",
    "print(wine1.isna().sum().sort_values())"
   ]
  },
  {
   "cell_type": "code",
   "execution_count": null,
   "id": "86052862-3740-4c2b-b14f-08f4d8876b1f",
   "metadata": {},
   "outputs": [],
   "source": [
    "# Prepare data: Need 2 arrays, each for response and feature variable with compatible shapes\n",
    "# scikit-learn requires response and feature in distinct variables, X and y\n",
    "X1_points = wine1[\"points\"].values\n",
    "y1_price = wine1[\"price\"].values"
   ]
  },
  {
   "cell_type": "code",
   "execution_count": null,
   "id": "93c9fb2f-1599-4b4d-b8ae-20030758d59f",
   "metadata": {},
   "outputs": [],
   "source": [
    "print(type(X1_points), type(y1_price))"
   ]
  },
  {
   "cell_type": "code",
   "execution_count": null,
   "id": "c95356b4-47ca-4040-b202-fa24f8530bb3",
   "metadata": {},
   "outputs": [],
   "source": [
    "print(X1_points.shape, y1_price.shape)"
   ]
  },
  {
   "cell_type": "code",
   "execution_count": null,
   "id": "6849a7fc-237a-44e8-a311-fba6feb606c8",
   "metadata": {},
   "outputs": [],
   "source": [
    "# Ok for y to be 1-dimensional array\n",
    "# But features must be formatted as a 2-dimensional array to be accepted by scikitlearn\n",
    "# Convert shape of X by applying .reshape method, passing -1 followed by 1\n",
    "X1_points = X1_points.reshape(-1, 1)\n",
    "print(X1_points.shape)            "
   ]
  },
  {
   "cell_type": "code",
   "execution_count": null,
   "id": "b4a2805f-c420-47bb-b56b-1850f6f84601",
   "metadata": {},
   "outputs": [],
   "source": [
    "# Plot scatter plot\n",
    "plt.scatter(X1_points, y1_price)\n",
    "plt.ylim(0,1000)\n",
    "plt.show()"
   ]
  },
  {
   "cell_type": "code",
   "execution_count": null,
   "id": "c2e2ed3c-f993-4c12-91dd-00591af5afdb",
   "metadata": {},
   "outputs": [],
   "source": [
    "from sklearn.linear_model import LinearRegression"
   ]
  },
  {
   "cell_type": "code",
   "execution_count": null,
   "id": "03aa01fb-f26f-42af-bdd7-67dbc36f22e4",
   "metadata": {},
   "outputs": [],
   "source": [
    "# Create an instance of the linear regression model\n",
    "model = LinearRegression()"
   ]
  },
  {
   "cell_type": "code",
   "execution_count": null,
   "id": "15eb3d4b-289a-472a-bf07-217c06e1d269",
   "metadata": {},
   "outputs": [],
   "source": [
    "model.fit(X1_points, y1_price)"
   ]
  },
  {
   "cell_type": "code",
   "execution_count": null,
   "id": "8031260d-cacb-4a99-bf49-03d461aa5157",
   "metadata": {},
   "outputs": [],
   "source": [
    "# Analyze the coefficients and intercept of the fitted model\n",
    "coefficients = model.coef_\n",
    "print('coefficients: ',coefficients)\n",
    "intercept = model.intercept_\n",
    "print('intercept: ',intercept)"
   ]
  },
  {
   "cell_type": "code",
   "execution_count": null,
   "id": "97a38b71-539d-49ec-aa31-3560a0e00daa",
   "metadata": {},
   "outputs": [],
   "source": [
    "# Intercept is -422 and slope is 5.18 --> same results using statsmodels\n",
    "# Equation is y = 5.18 * points - 422"
   ]
  },
  {
   "cell_type": "code",
   "execution_count": null,
   "id": "d9bf0799-1b80-460e-bbb4-b7294db9cd61",
   "metadata": {},
   "outputs": [],
   "source": [
    "# Check missing values in wine2 dataset\n",
    "print(wine2.isna().sum().sort_values())"
   ]
  },
  {
   "cell_type": "code",
   "execution_count": null,
   "id": "5b521b7f-62ac-4251-924a-2c3db4136a9c",
   "metadata": {},
   "outputs": [],
   "source": [
    "# Drop NAs in price and points in wine2 dataset\n",
    "wine2= wine2.dropna(subset=[\"variety\",\"country\",\"province\",\"price\"])\n",
    "print(wine2.isna().sum().sort_values())"
   ]
  },
  {
   "cell_type": "code",
   "execution_count": null,
   "id": "9d6ca722-75d5-417e-89e0-00176e336941",
   "metadata": {},
   "outputs": [],
   "source": [
    "X2_points = wine2[\"points\"].values\n",
    "y2_price = wine2[\"price\"].values"
   ]
  },
  {
   "cell_type": "code",
   "execution_count": null,
   "id": "66f31df0-c77f-4d76-a2f5-338cde49cfc0",
   "metadata": {},
   "outputs": [],
   "source": [
    "print(type(X2_points), type(y2_price))"
   ]
  },
  {
   "cell_type": "code",
   "execution_count": null,
   "id": "43e80d31-0b40-4794-a702-2c939ad6dc3d",
   "metadata": {},
   "outputs": [],
   "source": [
    "# Format into a 2-dimensional array to be accepted by scikitlearn\n",
    "X2_points = X2_points.reshape(-1, 1)\n",
    "print(X2_points.shape,y2_price.shape)"
   ]
  },
  {
   "cell_type": "code",
   "execution_count": null,
   "id": "1c606a1c-b6b9-4d38-80b2-14e213142505",
   "metadata": {},
   "outputs": [],
   "source": [
    "y2_predict = model.predict(X2_points)"
   ]
  },
  {
   "cell_type": "code",
   "execution_count": null,
   "id": "76bc3e94-7264-4731-897b-2fcbb2615b0e",
   "metadata": {},
   "outputs": [],
   "source": [
    "plt.scatter(X2_points, y2_price, color=\"blue\")\n",
    "plt.plot(X2_points, y2_predict, color=\"purple\")\n",
    "plt.ylabel(\"Price\")\n",
    "plt.xlabel(\"Points\")\n",
    "plt.ylim(0,1000)\n",
    "plt.show()"
   ]
  },
  {
   "cell_type": "code",
   "execution_count": null,
   "id": "1d222f5d-4ba3-4a09-83e3-5316eafa4e92",
   "metadata": {},
   "outputs": [],
   "source": [
    "# Evaluate model performance\n",
    "from sklearn.metrics import mean_squared_error"
   ]
  },
  {
   "cell_type": "code",
   "execution_count": null,
   "id": "59db67ba-9166-47fd-9b96-3feeb87555b7",
   "metadata": {},
   "outputs": [],
   "source": [
    "# Calculate R-squared\n",
    "rsquared = model.score(X1_points, y1_price)\n",
    "print(\"rsquared: \",rsquared)\n",
    "\n",
    "# The proportion of the variance in the response variable that is predictable from the explanatory variable\n",
    "# r-squared is 0.211\n",
    "# About 22% of variance in price is explained by points\n",
    "# Similar to what we got using statsmodels"
   ]
  },
  {
   "cell_type": "code",
   "execution_count": null,
   "id": "310ca0f2-d4ee-4762-8d9c-73c191733daa",
   "metadata": {},
   "outputs": [],
   "source": [
    "# Calculate rmse\n",
    "rmse = mean_squared_error(y2_price, y2_predict, squared=False)\n",
    "print(\"rmse: \",rmse)\n",
    "\n",
    "# RSE: measure of the typical size of the residuals, how much the predictions are typically wrong\n",
    "# rse of 37.3 means that the difference between the predicted value of price and actual price is typically about 37.3\n",
    "# The model has an average error for price of around $37 per point\n",
    "# Close to what we have calculated in my previous video"
   ]
  },
  {
   "cell_type": "code",
   "execution_count": null,
   "id": "47f2a75b-6b11-4a9d-923e-f538024d2f3f",
   "metadata": {},
   "outputs": [],
   "source": []
  }
 ],
 "metadata": {
  "kernelspec": {
   "display_name": "Python 3 (ipykernel)",
   "language": "python",
   "name": "python3"
  },
  "language_info": {
   "codemirror_mode": {
    "name": "ipython",
    "version": 3
   },
   "file_extension": ".py",
   "mimetype": "text/x-python",
   "name": "python",
   "nbconvert_exporter": "python",
   "pygments_lexer": "ipython3",
   "version": "3.10.9"
  }
 },
 "nbformat": 4,
 "nbformat_minor": 5
}
